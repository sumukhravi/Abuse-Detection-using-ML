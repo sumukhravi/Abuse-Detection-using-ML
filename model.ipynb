{
 "cells": [
  {
   "cell_type": "markdown",
   "id": "b8b0310d-1c54-4f1d-bb60-560232fad139",
   "metadata": {},
   "source": [
    "# Model Training"
   ]
  },
  {
   "cell_type": "markdown",
   "id": "13cd2130-8c18-4a49-8b42-cba3b37b2242",
   "metadata": {},
   "source": [
    "## Data preprocessing"
   ]
  },
  {
   "cell_type": "code",
   "execution_count": 11,
   "id": "78c5a823",
   "metadata": {},
   "outputs": [],
   "source": [
    "import pandas as pd\n",
    "import numpy as np"
   ]
  },
  {
   "cell_type": "code",
   "execution_count": 12,
   "id": "62474ff4",
   "metadata": {},
   "outputs": [],
   "source": [
    "df1 = pd.read_csv(\"cleaned_dataset1.csv\", index_col='Unnamed: 0')\n",
    "df2 = pd.read_csv(\"cleaned_dataset2.csv\", index_col='Unnamed: 0')"
   ]
  },
  {
   "cell_type": "code",
   "execution_count": 13,
   "id": "f97fade4",
   "metadata": {},
   "outputs": [],
   "source": [
    "df = pd.concat([df1,df2], axis = 0) "
   ]
  },
  {
   "cell_type": "code",
   "execution_count": 14,
   "id": "04c1df4e",
   "metadata": {},
   "outputs": [
    {
     "data": {
      "text/html": [
       "<div>\n",
       "<style scoped>\n",
       "    .dataframe tbody tr th:only-of-type {\n",
       "        vertical-align: middle;\n",
       "    }\n",
       "\n",
       "    .dataframe tbody tr th {\n",
       "        vertical-align: top;\n",
       "    }\n",
       "\n",
       "    .dataframe thead th {\n",
       "        text-align: right;\n",
       "    }\n",
       "</style>\n",
       "<table border=\"1\" class=\"dataframe\">\n",
       "  <thead>\n",
       "    <tr style=\"text-align: right;\">\n",
       "      <th></th>\n",
       "      <th>class</th>\n",
       "      <th>tweet</th>\n",
       "    </tr>\n",
       "  </thead>\n",
       "  <tbody>\n",
       "    <tr>\n",
       "      <th>0</th>\n",
       "      <td>0</td>\n",
       "      <td>woman complain clean hous man alway take trash</td>\n",
       "    </tr>\n",
       "    <tr>\n",
       "      <th>1</th>\n",
       "      <td>1</td>\n",
       "      <td>boy dat cold tyga dwn bad cuffin dat hoe  place</td>\n",
       "    </tr>\n",
       "    <tr>\n",
       "      <th>2</th>\n",
       "      <td>1</td>\n",
       "      <td>dawg ever fuck bitch start cri confus shit</td>\n",
       "    </tr>\n",
       "    <tr>\n",
       "      <th>3</th>\n",
       "      <td>1</td>\n",
       "      <td>anderson base look like tranni</td>\n",
       "    </tr>\n",
       "    <tr>\n",
       "      <th>4</th>\n",
       "      <td>1</td>\n",
       "      <td>shit hear might true might faker bitch told ya</td>\n",
       "    </tr>\n",
       "  </tbody>\n",
       "</table>\n",
       "</div>"
      ],
      "text/plain": [
       "   class                                            tweet\n",
       "0      0   woman complain clean hous man alway take trash\n",
       "1      1  boy dat cold tyga dwn bad cuffin dat hoe  place\n",
       "2      1       dawg ever fuck bitch start cri confus shit\n",
       "3      1                   anderson base look like tranni\n",
       "4      1  shit hear might true might faker bitch told ya "
      ]
     },
     "execution_count": 14,
     "metadata": {},
     "output_type": "execute_result"
    }
   ],
   "source": [
    "df.head()"
   ]
  },
  {
   "cell_type": "code",
   "execution_count": 15,
   "id": "f64a0ffc",
   "metadata": {},
   "outputs": [],
   "source": [
    "df = df.astype({\"tweet\": str})"
   ]
  },
  {
   "cell_type": "code",
   "execution_count": 16,
   "id": "79999d26",
   "metadata": {},
   "outputs": [],
   "source": [
    "from keras.preprocessing.text import Tokenizer\n",
    "tokenizer = Tokenizer()\n",
    "tokenizer.fit_on_texts(df.tweet)\n",
    "sequences = tokenizer.texts_to_sequences(df.tweet)"
   ]
  },
  {
   "cell_type": "code",
   "execution_count": 21,
   "id": "e0bb9da6",
   "metadata": {},
   "outputs": [],
   "source": [
    "# tokenizer.sequences_to_texts_generator(sequences)"
   ]
  },
  {
   "cell_type": "code",
   "execution_count": 18,
   "id": "effd3cfb",
   "metadata": {},
   "outputs": [],
   "source": [
    "# tokenizer.word_index"
   ]
  },
  {
   "cell_type": "code",
   "execution_count": 20,
   "id": "f27368d9",
   "metadata": {},
   "outputs": [
    {
     "data": {
      "text/plain": [
       "[[303, 929, 652, 244, 45, 77, 32, 31],\n",
       " [115, 196, 400, 2899, 10639, 57, 4121, 196, 2, 190],\n",
       " [1348, 103, 7, 1, 307, 260, 795, 21],\n",
       " [5169, 969, 19, 4, 1030],\n",
       " [21, 346, 183, 288, 183, 7238, 1, 377, 113],\n",
       " [4754, 21, 885, 805, 897, 711, 53, 7, 2],\n",
       " [8494, 509, 48, 127, 1, 12, 85, 21, 11],\n",
       " [147, 422, 125, 1, 35, 63, 1163, 25],\n",
       " [183, 6, 113, 1, 42, 389],\n",
       " [4122, 1284, 342, 10640, 1],\n",
       " [15853, 1, 1963, 157, 27, 250, 1539, 4, 268],\n",
       " [5703, 1265, 1, 1265, 979],\n",
       " [2, 506, 1248, 688, 11, 1049],\n",
       " [57, 1, 59, 4],\n",
       " [1, 6],\n",
       " [1, 10, 153],\n",
       " [1, 1571, 251],\n",
       " [1, 3],\n",
       " [1, 6, 409, 594],\n",
       " [112, 1232, 57, 1]]"
      ]
     },
     "execution_count": 20,
     "metadata": {},
     "output_type": "execute_result"
    }
   ],
   "source": [
    "sequences[:20]"
   ]
  },
  {
   "cell_type": "code",
   "execution_count": 47,
   "id": "8dc4884f",
   "metadata": {},
   "outputs": [],
   "source": [
    "from keras.preprocessing.sequence import pad_sequences"
   ]
  },
  {
   "cell_type": "code",
   "execution_count": 48,
   "id": "83ddd64f",
   "metadata": {},
   "outputs": [],
   "source": [
    "mlen = max([len(s.split()) for s in df.tweet])\n",
    "X = pad_sequences(sequences, maxlen = mlen, padding = 'post')"
   ]
  },
  {
   "cell_type": "code",
   "execution_count": 49,
   "id": "ec9e0e3f",
   "metadata": {},
   "outputs": [
    {
     "data": {
      "text/plain": [
       "37"
      ]
     },
     "execution_count": 49,
     "metadata": {},
     "output_type": "execute_result"
    }
   ],
   "source": [
    "mlen"
   ]
  },
  {
   "cell_type": "code",
   "execution_count": 50,
   "id": "e153ecad",
   "metadata": {},
   "outputs": [],
   "source": [
    "X = pd.DataFrame(X)"
   ]
  },
  {
   "cell_type": "code",
   "execution_count": 51,
   "id": "7544ebbd",
   "metadata": {},
   "outputs": [
    {
     "data": {
      "text/html": [
       "<div>\n",
       "<style scoped>\n",
       "    .dataframe tbody tr th:only-of-type {\n",
       "        vertical-align: middle;\n",
       "    }\n",
       "\n",
       "    .dataframe tbody tr th {\n",
       "        vertical-align: top;\n",
       "    }\n",
       "\n",
       "    .dataframe thead th {\n",
       "        text-align: right;\n",
       "    }\n",
       "</style>\n",
       "<table border=\"1\" class=\"dataframe\">\n",
       "  <thead>\n",
       "    <tr style=\"text-align: right;\">\n",
       "      <th></th>\n",
       "      <th>0</th>\n",
       "      <th>1</th>\n",
       "      <th>2</th>\n",
       "      <th>3</th>\n",
       "      <th>4</th>\n",
       "      <th>5</th>\n",
       "      <th>6</th>\n",
       "      <th>7</th>\n",
       "      <th>8</th>\n",
       "      <th>9</th>\n",
       "      <th>...</th>\n",
       "      <th>27</th>\n",
       "      <th>28</th>\n",
       "      <th>29</th>\n",
       "      <th>30</th>\n",
       "      <th>31</th>\n",
       "      <th>32</th>\n",
       "      <th>33</th>\n",
       "      <th>34</th>\n",
       "      <th>35</th>\n",
       "      <th>36</th>\n",
       "    </tr>\n",
       "  </thead>\n",
       "  <tbody>\n",
       "    <tr>\n",
       "      <th>0</th>\n",
       "      <td>303</td>\n",
       "      <td>929</td>\n",
       "      <td>652</td>\n",
       "      <td>244</td>\n",
       "      <td>45</td>\n",
       "      <td>77</td>\n",
       "      <td>32</td>\n",
       "      <td>31</td>\n",
       "      <td>0</td>\n",
       "      <td>0</td>\n",
       "      <td>...</td>\n",
       "      <td>0</td>\n",
       "      <td>0</td>\n",
       "      <td>0</td>\n",
       "      <td>0</td>\n",
       "      <td>0</td>\n",
       "      <td>0</td>\n",
       "      <td>0</td>\n",
       "      <td>0</td>\n",
       "      <td>0</td>\n",
       "      <td>0</td>\n",
       "    </tr>\n",
       "    <tr>\n",
       "      <th>1</th>\n",
       "      <td>115</td>\n",
       "      <td>196</td>\n",
       "      <td>400</td>\n",
       "      <td>2899</td>\n",
       "      <td>10639</td>\n",
       "      <td>57</td>\n",
       "      <td>4121</td>\n",
       "      <td>196</td>\n",
       "      <td>2</td>\n",
       "      <td>190</td>\n",
       "      <td>...</td>\n",
       "      <td>0</td>\n",
       "      <td>0</td>\n",
       "      <td>0</td>\n",
       "      <td>0</td>\n",
       "      <td>0</td>\n",
       "      <td>0</td>\n",
       "      <td>0</td>\n",
       "      <td>0</td>\n",
       "      <td>0</td>\n",
       "      <td>0</td>\n",
       "    </tr>\n",
       "    <tr>\n",
       "      <th>2</th>\n",
       "      <td>1348</td>\n",
       "      <td>103</td>\n",
       "      <td>7</td>\n",
       "      <td>1</td>\n",
       "      <td>307</td>\n",
       "      <td>260</td>\n",
       "      <td>795</td>\n",
       "      <td>21</td>\n",
       "      <td>0</td>\n",
       "      <td>0</td>\n",
       "      <td>...</td>\n",
       "      <td>0</td>\n",
       "      <td>0</td>\n",
       "      <td>0</td>\n",
       "      <td>0</td>\n",
       "      <td>0</td>\n",
       "      <td>0</td>\n",
       "      <td>0</td>\n",
       "      <td>0</td>\n",
       "      <td>0</td>\n",
       "      <td>0</td>\n",
       "    </tr>\n",
       "    <tr>\n",
       "      <th>3</th>\n",
       "      <td>5169</td>\n",
       "      <td>969</td>\n",
       "      <td>19</td>\n",
       "      <td>4</td>\n",
       "      <td>1030</td>\n",
       "      <td>0</td>\n",
       "      <td>0</td>\n",
       "      <td>0</td>\n",
       "      <td>0</td>\n",
       "      <td>0</td>\n",
       "      <td>...</td>\n",
       "      <td>0</td>\n",
       "      <td>0</td>\n",
       "      <td>0</td>\n",
       "      <td>0</td>\n",
       "      <td>0</td>\n",
       "      <td>0</td>\n",
       "      <td>0</td>\n",
       "      <td>0</td>\n",
       "      <td>0</td>\n",
       "      <td>0</td>\n",
       "    </tr>\n",
       "    <tr>\n",
       "      <th>4</th>\n",
       "      <td>21</td>\n",
       "      <td>346</td>\n",
       "      <td>183</td>\n",
       "      <td>288</td>\n",
       "      <td>183</td>\n",
       "      <td>7238</td>\n",
       "      <td>1</td>\n",
       "      <td>377</td>\n",
       "      <td>113</td>\n",
       "      <td>0</td>\n",
       "      <td>...</td>\n",
       "      <td>0</td>\n",
       "      <td>0</td>\n",
       "      <td>0</td>\n",
       "      <td>0</td>\n",
       "      <td>0</td>\n",
       "      <td>0</td>\n",
       "      <td>0</td>\n",
       "      <td>0</td>\n",
       "      <td>0</td>\n",
       "      <td>0</td>\n",
       "    </tr>\n",
       "    <tr>\n",
       "      <th>...</th>\n",
       "      <td>...</td>\n",
       "      <td>...</td>\n",
       "      <td>...</td>\n",
       "      <td>...</td>\n",
       "      <td>...</td>\n",
       "      <td>...</td>\n",
       "      <td>...</td>\n",
       "      <td>...</td>\n",
       "      <td>...</td>\n",
       "      <td>...</td>\n",
       "      <td>...</td>\n",
       "      <td>...</td>\n",
       "      <td>...</td>\n",
       "      <td>...</td>\n",
       "      <td>...</td>\n",
       "      <td>...</td>\n",
       "      <td>...</td>\n",
       "      <td>...</td>\n",
       "      <td>...</td>\n",
       "      <td>...</td>\n",
       "      <td>...</td>\n",
       "    </tr>\n",
       "    <tr>\n",
       "      <th>56740</th>\n",
       "      <td>982</td>\n",
       "      <td>39715</td>\n",
       "      <td>5812</td>\n",
       "      <td>0</td>\n",
       "      <td>0</td>\n",
       "      <td>0</td>\n",
       "      <td>0</td>\n",
       "      <td>0</td>\n",
       "      <td>0</td>\n",
       "      <td>0</td>\n",
       "      <td>...</td>\n",
       "      <td>0</td>\n",
       "      <td>0</td>\n",
       "      <td>0</td>\n",
       "      <td>0</td>\n",
       "      <td>0</td>\n",
       "      <td>0</td>\n",
       "      <td>0</td>\n",
       "      <td>0</td>\n",
       "      <td>0</td>\n",
       "      <td>0</td>\n",
       "    </tr>\n",
       "    <tr>\n",
       "      <th>56741</th>\n",
       "      <td>24</td>\n",
       "      <td>5444</td>\n",
       "      <td>4461</td>\n",
       "      <td>39716</td>\n",
       "      <td>78</td>\n",
       "      <td>1852</td>\n",
       "      <td>8821</td>\n",
       "      <td>1887</td>\n",
       "      <td>1000</td>\n",
       "      <td>4</td>\n",
       "      <td>...</td>\n",
       "      <td>0</td>\n",
       "      <td>0</td>\n",
       "      <td>0</td>\n",
       "      <td>0</td>\n",
       "      <td>0</td>\n",
       "      <td>0</td>\n",
       "      <td>0</td>\n",
       "      <td>0</td>\n",
       "      <td>0</td>\n",
       "      <td>0</td>\n",
       "    </tr>\n",
       "    <tr>\n",
       "      <th>56742</th>\n",
       "      <td>274</td>\n",
       "      <td>102</td>\n",
       "      <td>243</td>\n",
       "      <td>345</td>\n",
       "      <td>98</td>\n",
       "      <td>6867</td>\n",
       "      <td>37</td>\n",
       "      <td>102</td>\n",
       "      <td>0</td>\n",
       "      <td>0</td>\n",
       "      <td>...</td>\n",
       "      <td>0</td>\n",
       "      <td>0</td>\n",
       "      <td>0</td>\n",
       "      <td>0</td>\n",
       "      <td>0</td>\n",
       "      <td>0</td>\n",
       "      <td>0</td>\n",
       "      <td>0</td>\n",
       "      <td>0</td>\n",
       "      <td>0</td>\n",
       "    </tr>\n",
       "    <tr>\n",
       "      <th>56743</th>\n",
       "      <td>2142</td>\n",
       "      <td>1504</td>\n",
       "      <td>2206</td>\n",
       "      <td>1898</td>\n",
       "      <td>2207</td>\n",
       "      <td>1595</td>\n",
       "      <td>206</td>\n",
       "      <td>0</td>\n",
       "      <td>0</td>\n",
       "      <td>0</td>\n",
       "      <td>...</td>\n",
       "      <td>0</td>\n",
       "      <td>0</td>\n",
       "      <td>0</td>\n",
       "      <td>0</td>\n",
       "      <td>0</td>\n",
       "      <td>0</td>\n",
       "      <td>0</td>\n",
       "      <td>0</td>\n",
       "      <td>0</td>\n",
       "      <td>0</td>\n",
       "    </tr>\n",
       "    <tr>\n",
       "      <th>56744</th>\n",
       "      <td>14</td>\n",
       "      <td>73</td>\n",
       "      <td>0</td>\n",
       "      <td>0</td>\n",
       "      <td>0</td>\n",
       "      <td>0</td>\n",
       "      <td>0</td>\n",
       "      <td>0</td>\n",
       "      <td>0</td>\n",
       "      <td>0</td>\n",
       "      <td>...</td>\n",
       "      <td>0</td>\n",
       "      <td>0</td>\n",
       "      <td>0</td>\n",
       "      <td>0</td>\n",
       "      <td>0</td>\n",
       "      <td>0</td>\n",
       "      <td>0</td>\n",
       "      <td>0</td>\n",
       "      <td>0</td>\n",
       "      <td>0</td>\n",
       "    </tr>\n",
       "  </tbody>\n",
       "</table>\n",
       "<p>56745 rows × 37 columns</p>\n",
       "</div>"
      ],
      "text/plain": [
       "         0      1     2      3      4     5     6     7     8    9   ...  27  \\\n",
       "0       303    929   652    244     45    77    32    31     0    0  ...   0   \n",
       "1       115    196   400   2899  10639    57  4121   196     2  190  ...   0   \n",
       "2      1348    103     7      1    307   260   795    21     0    0  ...   0   \n",
       "3      5169    969    19      4   1030     0     0     0     0    0  ...   0   \n",
       "4        21    346   183    288    183  7238     1   377   113    0  ...   0   \n",
       "...     ...    ...   ...    ...    ...   ...   ...   ...   ...  ...  ...  ..   \n",
       "56740   982  39715  5812      0      0     0     0     0     0    0  ...   0   \n",
       "56741    24   5444  4461  39716     78  1852  8821  1887  1000    4  ...   0   \n",
       "56742   274    102   243    345     98  6867    37   102     0    0  ...   0   \n",
       "56743  2142   1504  2206   1898   2207  1595   206     0     0    0  ...   0   \n",
       "56744    14     73     0      0      0     0     0     0     0    0  ...   0   \n",
       "\n",
       "       28  29  30  31  32  33  34  35  36  \n",
       "0       0   0   0   0   0   0   0   0   0  \n",
       "1       0   0   0   0   0   0   0   0   0  \n",
       "2       0   0   0   0   0   0   0   0   0  \n",
       "3       0   0   0   0   0   0   0   0   0  \n",
       "4       0   0   0   0   0   0   0   0   0  \n",
       "...    ..  ..  ..  ..  ..  ..  ..  ..  ..  \n",
       "56740   0   0   0   0   0   0   0   0   0  \n",
       "56741   0   0   0   0   0   0   0   0   0  \n",
       "56742   0   0   0   0   0   0   0   0   0  \n",
       "56743   0   0   0   0   0   0   0   0   0  \n",
       "56744   0   0   0   0   0   0   0   0   0  \n",
       "\n",
       "[56745 rows x 37 columns]"
      ]
     },
     "execution_count": 51,
     "metadata": {},
     "output_type": "execute_result"
    }
   ],
   "source": [
    "X"
   ]
  },
  {
   "cell_type": "code",
   "execution_count": 52,
   "id": "0179a3dc",
   "metadata": {},
   "outputs": [
    {
     "data": {
      "text/plain": [
       "(56745, 37)"
      ]
     },
     "execution_count": 52,
     "metadata": {},
     "output_type": "execute_result"
    }
   ],
   "source": [
    "X.shape"
   ]
  },
  {
   "cell_type": "code",
   "execution_count": 53,
   "id": "c7c29de6",
   "metadata": {},
   "outputs": [],
   "source": [
    "Y = df['class']"
   ]
  },
  {
   "cell_type": "code",
   "execution_count": 54,
   "id": "b67c12b3",
   "metadata": {},
   "outputs": [
    {
     "data": {
      "text/plain": [
       "(56745,)"
      ]
     },
     "execution_count": 54,
     "metadata": {},
     "output_type": "execute_result"
    }
   ],
   "source": [
    "Y.shape"
   ]
  },
  {
   "cell_type": "code",
   "execution_count": 55,
   "id": "b4d32ec6",
   "metadata": {},
   "outputs": [],
   "source": [
    "from sklearn.model_selection import train_test_split\n",
    "x_train, x_test, y_train, y_test = train_test_split(X, Y, test_size = 0.3, random_state = 42)"
   ]
  },
  {
   "cell_type": "code",
   "execution_count": 56,
   "id": "0bf0a28e-1130-41b2-8874-9f5f1b2f5252",
   "metadata": {},
   "outputs": [
    {
     "data": {
      "text/html": [
       "<div>\n",
       "<style scoped>\n",
       "    .dataframe tbody tr th:only-of-type {\n",
       "        vertical-align: middle;\n",
       "    }\n",
       "\n",
       "    .dataframe tbody tr th {\n",
       "        vertical-align: top;\n",
       "    }\n",
       "\n",
       "    .dataframe thead th {\n",
       "        text-align: right;\n",
       "    }\n",
       "</style>\n",
       "<table border=\"1\" class=\"dataframe\">\n",
       "  <thead>\n",
       "    <tr style=\"text-align: right;\">\n",
       "      <th></th>\n",
       "      <th>0</th>\n",
       "      <th>1</th>\n",
       "      <th>2</th>\n",
       "      <th>3</th>\n",
       "      <th>4</th>\n",
       "      <th>5</th>\n",
       "      <th>6</th>\n",
       "      <th>7</th>\n",
       "      <th>8</th>\n",
       "      <th>9</th>\n",
       "      <th>...</th>\n",
       "      <th>27</th>\n",
       "      <th>28</th>\n",
       "      <th>29</th>\n",
       "      <th>30</th>\n",
       "      <th>31</th>\n",
       "      <th>32</th>\n",
       "      <th>33</th>\n",
       "      <th>34</th>\n",
       "      <th>35</th>\n",
       "      <th>36</th>\n",
       "    </tr>\n",
       "  </thead>\n",
       "  <tbody>\n",
       "    <tr>\n",
       "      <th>20376</th>\n",
       "      <td>2243</td>\n",
       "      <td>108</td>\n",
       "      <td>1926</td>\n",
       "      <td>524</td>\n",
       "      <td>2</td>\n",
       "      <td>524</td>\n",
       "      <td>0</td>\n",
       "      <td>0</td>\n",
       "      <td>0</td>\n",
       "      <td>0</td>\n",
       "      <td>...</td>\n",
       "      <td>0</td>\n",
       "      <td>0</td>\n",
       "      <td>0</td>\n",
       "      <td>0</td>\n",
       "      <td>0</td>\n",
       "      <td>0</td>\n",
       "      <td>0</td>\n",
       "      <td>0</td>\n",
       "      <td>0</td>\n",
       "      <td>0</td>\n",
       "    </tr>\n",
       "    <tr>\n",
       "      <th>53557</th>\n",
       "      <td>14</td>\n",
       "      <td>498</td>\n",
       "      <td>122</td>\n",
       "      <td>59</td>\n",
       "      <td>78</td>\n",
       "      <td>14841</td>\n",
       "      <td>0</td>\n",
       "      <td>0</td>\n",
       "      <td>0</td>\n",
       "      <td>0</td>\n",
       "      <td>...</td>\n",
       "      <td>0</td>\n",
       "      <td>0</td>\n",
       "      <td>0</td>\n",
       "      <td>0</td>\n",
       "      <td>0</td>\n",
       "      <td>0</td>\n",
       "      <td>0</td>\n",
       "      <td>0</td>\n",
       "      <td>0</td>\n",
       "      <td>0</td>\n",
       "    </tr>\n",
       "    <tr>\n",
       "      <th>54107</th>\n",
       "      <td>297</td>\n",
       "      <td>125</td>\n",
       "      <td>1959</td>\n",
       "      <td>508</td>\n",
       "      <td>13374</td>\n",
       "      <td>3564</td>\n",
       "      <td>1501</td>\n",
       "      <td>1106</td>\n",
       "      <td>41</td>\n",
       "      <td>309</td>\n",
       "      <td>...</td>\n",
       "      <td>0</td>\n",
       "      <td>0</td>\n",
       "      <td>0</td>\n",
       "      <td>0</td>\n",
       "      <td>0</td>\n",
       "      <td>0</td>\n",
       "      <td>0</td>\n",
       "      <td>0</td>\n",
       "      <td>0</td>\n",
       "      <td>0</td>\n",
       "    </tr>\n",
       "    <tr>\n",
       "      <th>14400</th>\n",
       "      <td>25</td>\n",
       "      <td>55</td>\n",
       "      <td>584</td>\n",
       "      <td>34</td>\n",
       "      <td>1</td>\n",
       "      <td>30</td>\n",
       "      <td>584</td>\n",
       "      <td>6513</td>\n",
       "      <td>437</td>\n",
       "      <td>454</td>\n",
       "      <td>...</td>\n",
       "      <td>0</td>\n",
       "      <td>0</td>\n",
       "      <td>0</td>\n",
       "      <td>0</td>\n",
       "      <td>0</td>\n",
       "      <td>0</td>\n",
       "      <td>0</td>\n",
       "      <td>0</td>\n",
       "      <td>0</td>\n",
       "      <td>0</td>\n",
       "    </tr>\n",
       "    <tr>\n",
       "      <th>12903</th>\n",
       "      <td>98</td>\n",
       "      <td>997</td>\n",
       "      <td>239</td>\n",
       "      <td>1394</td>\n",
       "      <td>31</td>\n",
       "      <td>233</td>\n",
       "      <td>17</td>\n",
       "      <td>23</td>\n",
       "      <td>378</td>\n",
       "      <td>0</td>\n",
       "      <td>...</td>\n",
       "      <td>0</td>\n",
       "      <td>0</td>\n",
       "      <td>0</td>\n",
       "      <td>0</td>\n",
       "      <td>0</td>\n",
       "      <td>0</td>\n",
       "      <td>0</td>\n",
       "      <td>0</td>\n",
       "      <td>0</td>\n",
       "      <td>0</td>\n",
       "    </tr>\n",
       "  </tbody>\n",
       "</table>\n",
       "<p>5 rows × 37 columns</p>\n",
       "</div>"
      ],
      "text/plain": [
       "         0    1     2     3      4      5     6     7    8    9   ...  27  28  \\\n",
       "20376  2243  108  1926   524      2    524     0     0    0    0  ...   0   0   \n",
       "53557    14  498   122    59     78  14841     0     0    0    0  ...   0   0   \n",
       "54107   297  125  1959   508  13374   3564  1501  1106   41  309  ...   0   0   \n",
       "14400    25   55   584    34      1     30   584  6513  437  454  ...   0   0   \n",
       "12903    98  997   239  1394     31    233    17    23  378    0  ...   0   0   \n",
       "\n",
       "       29  30  31  32  33  34  35  36  \n",
       "20376   0   0   0   0   0   0   0   0  \n",
       "53557   0   0   0   0   0   0   0   0  \n",
       "54107   0   0   0   0   0   0   0   0  \n",
       "14400   0   0   0   0   0   0   0   0  \n",
       "12903   0   0   0   0   0   0   0   0  \n",
       "\n",
       "[5 rows x 37 columns]"
      ]
     },
     "execution_count": 56,
     "metadata": {},
     "output_type": "execute_result"
    }
   ],
   "source": [
    "x_train.head()"
   ]
  },
  {
   "cell_type": "code",
   "execution_count": 57,
   "id": "279ce69b-d831-4fa0-bbf0-c865c80b6e2f",
   "metadata": {},
   "outputs": [
    {
     "data": {
      "text/plain": [
       "20376    1\n",
       "28774    0\n",
       "29324    0\n",
       "14400    1\n",
       "12903    0\n",
       "Name: class, dtype: int64"
      ]
     },
     "execution_count": 57,
     "metadata": {},
     "output_type": "execute_result"
    }
   ],
   "source": [
    "y_train.head()"
   ]
  },
  {
   "cell_type": "code",
   "execution_count": 58,
   "id": "3162384d",
   "metadata": {},
   "outputs": [
    {
     "data": {
      "text/plain": [
       "(17024,)"
      ]
     },
     "execution_count": 58,
     "metadata": {},
     "output_type": "execute_result"
    }
   ],
   "source": [
    "y_test.shape"
   ]
  },
  {
   "cell_type": "code",
   "execution_count": 59,
   "id": "f8a9e0f0",
   "metadata": {},
   "outputs": [
    {
     "data": {
      "text/plain": [
       "(17024, 37)"
      ]
     },
     "execution_count": 59,
     "metadata": {},
     "output_type": "execute_result"
    }
   ],
   "source": [
    "x_test.shape"
   ]
  },
  {
   "cell_type": "markdown",
   "id": "46b78a57-f723-4329-b4d3-6772543f6296",
   "metadata": {},
   "source": [
    "## Training model"
   ]
  },
  {
   "cell_type": "code",
   "execution_count": 60,
   "id": "34ae9fba",
   "metadata": {},
   "outputs": [],
   "source": [
    "from keras.models import Sequential\n",
    "from keras.layers import Dense\n",
    "from keras.layers import Flatten\n",
    "from keras.layers import Embedding\n",
    "from keras.layers import SpatialDropout1D\n",
    "from keras.layers.convolutional import Conv1D\n",
    "from keras.layers.convolutional import MaxPooling1D"
   ]
  },
  {
   "cell_type": "code",
   "execution_count": 61,
   "id": "fc387ed7",
   "metadata": {},
   "outputs": [
    {
     "data": {
      "text/plain": [
       "39718"
      ]
     },
     "execution_count": 61,
     "metadata": {},
     "output_type": "execute_result"
    }
   ],
   "source": [
    "word_count = len(tokenizer.word_index) + 1\n",
    "word_count"
   ]
  },
  {
   "cell_type": "code",
   "execution_count": 62,
   "id": "366e030c",
   "metadata": {},
   "outputs": [
    {
     "name": "stdout",
     "output_type": "stream",
     "text": [
      "Model: \"sequential\"\n",
      "_________________________________________________________________\n",
      "Layer (type)                 Output Shape              Param #   \n",
      "=================================================================\n",
      "embedding (Embedding)        (None, 37, 100)           3971800   \n",
      "_________________________________________________________________\n",
      "conv1d (Conv1D)              (None, 30, 32)            25632     \n",
      "_________________________________________________________________\n",
      "max_pooling1d (MaxPooling1D) (None, 15, 32)            0         \n",
      "_________________________________________________________________\n",
      "conv1d_1 (Conv1D)            (None, 15, 32)            1056      \n",
      "_________________________________________________________________\n",
      "max_pooling1d_1 (MaxPooling1 (None, 7, 32)             0         \n",
      "_________________________________________________________________\n",
      "flatten (Flatten)            (None, 224)               0         \n",
      "_________________________________________________________________\n",
      "dense (Dense)                (None, 10)                2250      \n",
      "_________________________________________________________________\n",
      "dense_1 (Dense)              (None, 1)                 11        \n",
      "=================================================================\n",
      "Total params: 4,000,749\n",
      "Trainable params: 4,000,749\n",
      "Non-trainable params: 0\n",
      "_________________________________________________________________\n"
     ]
    }
   ],
   "source": [
    "model = Sequential()\n",
    "model.add(Embedding(word_count, 100, input_length = mlen))\n",
    "model.add(Conv1D(filters = 32, kernel_size = 8, activation = 'relu'))\n",
    "model.add(MaxPooling1D(pool_size = 2))\n",
    "model.add(Conv1D(filters = 32, kernel_size = 1, activation = 'relu'))\n",
    "model.add(MaxPooling1D(pool_size = 2))\n",
    "model.add(Flatten())\n",
    "model.add(Dense(10, activation = 'relu'))\n",
    "model.add(Dense(1, activation = 'sigmoid'))\n",
    "\n",
    "model.summary()\n",
    "\n",
    "model.compile(loss='binary_crossentropy', optimizer='adam',metrics=['accuracy'])"
   ]
  },
  {
   "cell_type": "code",
   "execution_count": 63,
   "id": "fc72af10",
   "metadata": {},
   "outputs": [],
   "source": [
    "from keras.callbacks import ModelCheckpoint\n",
    "\n",
    "filepath = 'model_weights_saved.ckpt'\n",
    "\n",
    "checkpoint = ModelCheckpoint(filepath, monitor = 'loss', verbose = 1, save_best_only = True, mode = 'min')\n",
    "desired_callbacks = [checkpoint]"
   ]
  },
  {
   "cell_type": "code",
   "execution_count": 64,
   "id": "beaf6d6c",
   "metadata": {},
   "outputs": [
    {
     "name": "stdout",
     "output_type": "stream",
     "text": [
      "Epoch 1/5\n",
      "497/497 [==============================] - 54s 82ms/step - loss: 0.3727 - accuracy: 0.8145 - val_loss: 0.1391 - val_accuracy: 0.9538\n",
      "\n",
      "Epoch 00001: loss improved from inf to 0.23316, saving model to model_weights_saved.ckpt\n",
      "INFO:tensorflow:Assets written to: model_weights_saved.ckpt\\assets\n",
      "Epoch 2/5\n",
      "497/497 [==============================] - 39s 79ms/step - loss: 0.0873 - accuracy: 0.9730 - val_loss: 0.1590 - val_accuracy: 0.9500\n",
      "\n",
      "Epoch 00002: loss improved from 0.23316 to 0.08853, saving model to model_weights_saved.ckpt\n",
      "INFO:tensorflow:Assets written to: model_weights_saved.ckpt\\assets\n",
      "Epoch 3/5\n",
      "497/497 [==============================] - 40s 80ms/step - loss: 0.0435 - accuracy: 0.9884 - val_loss: 0.1889 - val_accuracy: 0.9422\n",
      "\n",
      "Epoch 00003: loss improved from 0.08853 to 0.04706, saving model to model_weights_saved.ckpt\n",
      "INFO:tensorflow:Assets written to: model_weights_saved.ckpt\\assets\n",
      "Epoch 4/5\n",
      "497/497 [==============================] - 39s 79ms/step - loss: 0.0230 - accuracy: 0.9944 - val_loss: 0.2356 - val_accuracy: 0.9410\n",
      "\n",
      "Epoch 00004: loss improved from 0.04706 to 0.02391, saving model to model_weights_saved.ckpt\n",
      "INFO:tensorflow:Assets written to: model_weights_saved.ckpt\\assets\n",
      "Epoch 5/5\n",
      "497/497 [==============================] - 42s 85ms/step - loss: 0.0129 - accuracy: 0.9970 - val_loss: 0.2560 - val_accuracy: 0.9396\n",
      "\n",
      "Epoch 00005: loss improved from 0.02391 to 0.01390, saving model to model_weights_saved.ckpt\n",
      "INFO:tensorflow:Assets written to: model_weights_saved.ckpt\\assets\n"
     ]
    },
    {
     "data": {
      "text/plain": [
       "<keras.callbacks.History at 0x20388a8f940>"
      ]
     },
     "execution_count": 64,
     "metadata": {},
     "output_type": "execute_result"
    }
   ],
   "source": [
    "model.fit(x_train, y_train, batch_size = 64, epochs = 5, validation_split = 0.2, verbose = True, callbacks = desired_callbacks)"
   ]
  },
  {
   "cell_type": "markdown",
   "id": "f3471a20-7c6a-4414-ba6f-e7907116499f",
   "metadata": {},
   "source": [
    "## Model validation"
   ]
  },
  {
   "cell_type": "code",
   "execution_count": 65,
   "id": "4b86827f",
   "metadata": {},
   "outputs": [
    {
     "name": "stdout",
     "output_type": "stream",
     "text": [
      "532/532 [==============================] - 2s 3ms/step - loss: 0.2541 - accuracy: 0.9366\n"
     ]
    }
   ],
   "source": [
    "loss, accuracy = model.evaluate(x_test, y_test, verbose=True)"
   ]
  },
  {
   "cell_type": "code",
   "execution_count": 66,
   "id": "f51ac914",
   "metadata": {},
   "outputs": [
    {
     "data": {
      "text/plain": [
       "0.9366188645362854"
      ]
     },
     "execution_count": 66,
     "metadata": {},
     "output_type": "execute_result"
    }
   ],
   "source": [
    "accuracy"
   ]
  },
  {
   "cell_type": "markdown",
   "id": "d9610cff-7413-4d19-a14b-5dd4ab6245e5",
   "metadata": {},
   "source": [
    "## Saving model"
   ]
  },
  {
   "cell_type": "code",
   "execution_count": 67,
   "id": "e8b1cefa",
   "metadata": {},
   "outputs": [
    {
     "name": "stdout",
     "output_type": "stream",
     "text": [
      "INFO:tensorflow:Assets written to: model.h5py\\assets\n"
     ]
    }
   ],
   "source": [
    "model.save(\"model.h5py\")"
   ]
  },
  {
   "cell_type": "code",
   "execution_count": 69,
   "id": "077f10fa",
   "metadata": {},
   "outputs": [],
   "source": [
    "import pickle\n",
    "with open('tokenizer_obj.pkl', 'wb') as file:\n",
    "    pickle.dump(tokenizer ,file)"
   ]
  },
  {
   "cell_type": "code",
   "execution_count": 68,
   "id": "de85ed20",
   "metadata": {
    "tags": []
   },
   "outputs": [
    {
     "name": "stdout",
     "output_type": "stream",
     "text": [
      "532/532 [==============================] - 1s 3ms/step - loss: 0.2541 - accuracy: 0.9366\n"
     ]
    },
    {
     "data": {
      "text/plain": [
       "0.9366188645362854"
      ]
     },
     "execution_count": 68,
     "metadata": {},
     "output_type": "execute_result"
    }
   ],
   "source": [
    "model.load_weights(filepath)\n",
    "\n",
    "loss, accuracy = model.evaluate(x_test, y_test, verbose=True)\n",
    "accuracy"
   ]
  },
  {
   "cell_type": "markdown",
   "id": "281c38cc-5c9a-4b11-8b5f-95d7e0ccc320",
   "metadata": {},
   "source": [
    "## Saving train and test split dataframe"
   ]
  },
  {
   "cell_type": "code",
   "execution_count": 9,
   "id": "e66c7614-873d-45c4-bd28-200e31d7a1eb",
   "metadata": {},
   "outputs": [],
   "source": [
    "from sklearn.model_selection import train_test_split\n",
    "train_data, test_data = train_test_split(df, test_size=0.3, random_state=42)\n",
    "train_data.to_csv('train_data.csv')\n",
    "test_data.to_csv('test_data.csv')"
   ]
  }
 ],
 "metadata": {
  "kernelspec": {
   "display_name": "Python 3 (ipykernel)",
   "language": "python",
   "name": "python3"
  },
  "language_info": {
   "codemirror_mode": {
    "name": "ipython",
    "version": 3
   },
   "file_extension": ".py",
   "mimetype": "text/x-python",
   "name": "python",
   "nbconvert_exporter": "python",
   "pygments_lexer": "ipython3",
   "version": "3.9.0"
  }
 },
 "nbformat": 4,
 "nbformat_minor": 5
}
